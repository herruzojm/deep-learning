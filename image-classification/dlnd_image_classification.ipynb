{
 "cells": [
  {
   "cell_type": "markdown",
   "metadata": {
    "collapsed": true
   },
   "source": [
    "# Image Classification\n",
    "In this project, you'll classify images from the [CIFAR-10 dataset](https://www.cs.toronto.edu/~kriz/cifar.html).  The dataset consists of airplanes, dogs, cats, and other objects. You'll preprocess the images, then train a convolutional neural network on all the samples. The images need to be normalized and the labels need to be one-hot encoded.  You'll get to apply what you learned and build a convolutional, max pooling, dropout, and fully connected layers.  At the end, you'll get to see your neural network's predictions on the sample images.\n",
    "## Get the Data\n",
    "Run the following cell to download the [CIFAR-10 dataset for python](https://www.cs.toronto.edu/~kriz/cifar-10-python.tar.gz)."
   ]
  },
  {
   "cell_type": "code",
   "execution_count": 1,
   "metadata": {
    "collapsed": false
   },
   "outputs": [
    {
     "name": "stdout",
     "output_type": "stream",
     "text": [
      "All files found!\n"
     ]
    }
   ],
   "source": [
    "\"\"\"\n",
    "DON'T MODIFY ANYTHING IN THIS CELL THAT IS BELOW THIS LINE\n",
    "\"\"\"\n",
    "from urllib.request import urlretrieve\n",
    "from os.path import isfile, isdir\n",
    "from tqdm import tqdm\n",
    "import problem_unittests as tests\n",
    "import tarfile\n",
    "\n",
    "cifar10_dataset_folder_path = 'cifar-10-batches-py'\n",
    "\n",
    "class DLProgress(tqdm):\n",
    "    last_block = 0\n",
    "\n",
    "    def hook(self, block_num=1, block_size=1, total_size=None):\n",
    "        self.total = total_size\n",
    "        self.update((block_num - self.last_block) * block_size)\n",
    "        self.last_block = block_num\n",
    "\n",
    "if not isfile('cifar-10-python.tar.gz'):\n",
    "    with DLProgress(unit='B', unit_scale=True, miniters=1, desc='CIFAR-10 Dataset') as pbar:\n",
    "        urlretrieve(\n",
    "            'https://www.cs.toronto.edu/~kriz/cifar-10-python.tar.gz',\n",
    "            'cifar-10-python.tar.gz',\n",
    "            pbar.hook)\n",
    "\n",
    "if not isdir(cifar10_dataset_folder_path):\n",
    "    with tarfile.open('cifar-10-python.tar.gz') as tar:\n",
    "        tar.extractall()\n",
    "        tar.close()\n",
    "\n",
    "\n",
    "tests.test_folder_path(cifar10_dataset_folder_path)"
   ]
  },
  {
   "cell_type": "markdown",
   "metadata": {},
   "source": [
    "## Explore the Data\n",
    "The dataset is broken into batches to prevent your machine from running out of memory.  The CIFAR-10 dataset consists of 5 batches, named `data_batch_1`, `data_batch_2`, etc.. Each batch contains the labels and images that are one of the following:\n",
    "* airplane\n",
    "* automobile\n",
    "* bird\n",
    "* cat\n",
    "* deer\n",
    "* dog\n",
    "* frog\n",
    "* horse\n",
    "* ship\n",
    "* truck\n",
    "\n",
    "Understanding a dataset is part of making predictions on the data.  Play around with the code cell below by changing the `batch_id` and `sample_id`. The `batch_id` is the id for a batch (1-5). The `sample_id` is the id for a image and label pair in the batch.\n",
    "\n",
    "Ask yourself \"What are all possible labels?\", \"What is the range of values for the image data?\", \"Are the labels in order or random?\".  Answers to questions like these will help you preprocess the data and end up with better predictions."
   ]
  },
  {
   "cell_type": "code",
   "execution_count": 2,
   "metadata": {
    "collapsed": false
   },
   "outputs": [
    {
     "name": "stdout",
     "output_type": "stream",
     "text": [
      "\n",
      "Stats of batch 3:\n",
      "Samples: 10000\n",
      "Label Counts: {0: 994, 1: 1042, 2: 965, 3: 997, 4: 990, 5: 1029, 6: 978, 7: 1015, 8: 961, 9: 1029}\n",
      "First 20 Labels: [8, 5, 0, 6, 9, 2, 8, 3, 6, 2, 7, 4, 6, 9, 0, 0, 7, 3, 7, 2]\n",
      "\n",
      "Example of Image 1:\n",
      "Image - Min Value: 15 Max Value: 249\n",
      "Image - Shape: (32, 32, 3)\n",
      "Label - Label Id: 5 Name: dog\n"
     ]
    },
    {
     "data": {
      "image/png": "[encoded data removed]",
      "text/plain": [
       "<matplotlib.figure.Figure at 0x210906385c0>"
      ]
     },
     "metadata": {
      "image/png": {
       "height": 250,
       "width": 253
      }
     },
     "output_type": "display_data"
    }
   ],
   "source": [
    "%matplotlib inline\n",
    "%config InlineBackend.figure_format = 'retina'\n",
    "\n",
    "import helper\n",
    "import numpy as np\n",
    "\n",
    "# Explore the dataset\n",
    "batch_id = 3\n",
    "sample_id = 1\n",
    "helper.display_stats(cifar10_dataset_folder_path, batch_id, sample_id)"
   ]
  },
  {
   "cell_type": "markdown",
   "metadata": {},
   "source": [
    "## Implement Preprocess Functions\n",
    "### Normalize\n",
    "In the cell below, implement the `normalize` function to take in image data, `x`, and return it as a normalized Numpy array. The values should be in the range of 0 to 1, inclusive.  The return object should be the same shape as `x`."
   ]
  },
  {
   "cell_type": "code",
   "execution_count": 3,
   "metadata": {
    "collapsed": false
   },
   "outputs": [
    {
     "name": "stdout",
     "output_type": "stream",
     "text": [
      "Tests Passed\n"
     ]
    }
   ],
   "source": [
    "def normalize(x):\n",
    "    \"\"\"\n",
    "    Normalize a list of sample image data in the range of 0 to 1\n",
    "    : x: List of image data.  The image shape is (32, 32, 3)\n",
    "    : return: Numpy array of normalize data\n",
    "    \"\"\"        \n",
    "    x = x.astype(float)\n",
    "    x /= 255\n",
    "    return x\n",
    "\n",
    "\n",
    "\"\"\"\n",
    "DON'T MODIFY ANYTHING IN THIS CELL THAT IS BELOW THIS LINE\n",
    "\"\"\"\n",
    "tests.test_normalize(normalize)"
   ]
  },
  {
   "cell_type": "markdown",
   "metadata": {},
   "source": [
    "### One-hot encode\n",
    "Just like the previous code cell, you'll be implementing a function for preprocessing.  This time, you'll implement the `one_hot_encode` function. The input, `x`, are a list of labels.  Implement the function to return the list of labels as One-Hot encoded Numpy array.  The possible values for labels are 0 to 9. The one-hot encoding function should return the same encoding for each value between each call to `one_hot_encode`.  Make sure to save the map of encodings outside the function.\n",
    "\n",
    "Hint: Don't reinvent the wheel."
   ]
  },
  {
   "cell_type": "code",
   "execution_count": 4,
   "metadata": {
    "collapsed": false
   },
   "outputs": [
    {
     "name": "stdout",
     "output_type": "stream",
     "text": [
      "Tests Passed\n"
     ]
    }
   ],
   "source": [
    "from sklearn import preprocessing\n",
    "def one_hot_encode(x):\n",
    "    \"\"\"\n",
    "    One hot encode a list of sample labels. Return a one-hot encoded vector for each label.\n",
    "    : x: List of sample Labels\n",
    "    : return: Numpy array of one-hot encoded labels\n",
    "    \"\"\"\n",
    "    encoder = preprocessing.LabelBinarizer()\n",
    "    encoder.fit(x)\n",
    "    encoder.classes_ = np.array(list(range(10)))\n",
    "    labels = encoder.transform(x)         \n",
    "    return labels\n",
    "\n",
    "\n",
    "\"\"\"\n",
    "DON'T MODIFY ANYTHING IN THIS CELL THAT IS BELOW THIS LINE\n",
    "\"\"\"\n",
    "tests.test_one_hot_encode(one_hot_encode)"
   ]
  },
  {
   "cell_type": "markdown",
   "metadata": {},
   "source": [
    "### Randomize Data\n",
    "As you saw from exploring the data above, the order of the samples are randomized.  It doesn't hurt to randomize it again, but you don't need to for this dataset."
   ]
  },
  {
   "cell_type": "markdown",
   "metadata": {},
   "source": [
    "## Preprocess all the data and save it\n",
    "Running the code cell below will preprocess all the CIFAR-10 data and save it to file. The code below also uses 10% of the training data for validation."
   ]
  },
  {
   "cell_type": "code",
   "execution_count": 5,
   "metadata": {
    "collapsed": false
   },
   "outputs": [],
   "source": [
    "\"\"\"\n",
    "DON'T MODIFY ANYTHING IN THIS CELL\n",
    "\"\"\"\n",
    "# Preprocess Training, Validation, and Testing Data\n",
    "helper.preprocess_and_save_data(cifar10_dataset_folder_path, normalize, one_hot_encode)"
   ]
  },
  {
   "cell_type": "markdown",
   "metadata": {},
   "source": [
    "# Check Point\n",
    "This is your first checkpoint.  If you ever decide to come back to this notebook or have to restart the notebook, you can start from here.  The preprocessed data has been saved to disk."
   ]
  },
  {
   "cell_type": "code",
   "execution_count": 6,
   "metadata": {
    "collapsed": true
   },
   "outputs": [],
   "source": [
    "\"\"\"\n",
    "DON'T MODIFY ANYTHING IN THIS CELL\n",
    "\"\"\"\n",
    "import pickle\n",
    "import problem_unittests as tests\n",
    "import helper\n",
    "\n",
    "# Load the Preprocessed Validation data\n",
    "valid_features, valid_labels = pickle.load(open('preprocess_validation.p', mode='rb'))"
   ]
  },
  {
   "cell_type": "markdown",
   "metadata": {},
   "source": [
    "## Build the network\n",
    "For the neural network, you'll build each layer into a function.  Most of the code you've seen has been outside of functions. To test your code more thoroughly, we require that you put each layer in a function.  This allows us to give you better feedback and test for simple mistakes using our unittests before you submit your project.\n",
    "\n",
    ">**Note:** If you're finding it hard to dedicate enough time for this course each week, we've provided a small shortcut to this part of the project. In the next couple of problems, you'll have the option to use classes from the [TensorFlow Layers](https://www.tensorflow.org/api_docs/python/tf/layers) or [TensorFlow Layers (contrib)](https://www.tensorflow.org/api_guides/python/contrib.layers) packages to build each layer, except the layers you build in the \"Convolutional and Max Pooling Layer\" section.  TF Layers is similar to Keras's and TFLearn's abstraction to layers, so it's easy to pickup.\n",
    "\n",
    ">However, if you would like to get the most out of this course, try to solve all the problems _without_ using anything from the TF Layers packages. You **can** still use classes from other packages that happen to have the same name as ones you find in TF Layers! For example, instead of using the TF Layers version of the `conv2d` class, [tf.layers.conv2d](https://www.tensorflow.org/api_docs/python/tf/layers/conv2d), you would want to use the TF Neural Network version of `conv2d`, [tf.nn.conv2d](https://www.tensorflow.org/api_docs/python/tf/nn/conv2d). \n",
    "\n",
    "Let's begin!\n",
    "\n",
    "### Input\n",
    "The neural network needs to read the image data, one-hot encoded labels, and dropout keep probability. Implement the following functions\n",
    "* Implement `neural_net_image_input`\n",
    " * Return a [TF Placeholder](https://www.tensorflow.org/api_docs/python/tf/placeholder)\n",
    " * Set the shape using `image_shape` with batch size set to `None`.\n",
    " * Name the TensorFlow placeholder \"x\" using the TensorFlow `name` parameter in the [TF Placeholder](https://www.tensorflow.org/api_docs/python/tf/placeholder).\n",
    "* Implement `neural_net_label_input`\n",
    " * Return a [TF Placeholder](https://www.tensorflow.org/api_docs/python/tf/placeholder)\n",
    " * Set the shape using `n_classes` with batch size set to `None`.\n",
    " * Name the TensorFlow placeholder \"y\" using the TensorFlow `name` parameter in the [TF Placeholder](https://www.tensorflow.org/api_docs/python/tf/placeholder).\n",
    "* Implement `neural_net_keep_prob_input`\n",
    " * Return a [TF Placeholder](https://www.tensorflow.org/api_docs/python/tf/placeholder) for dropout keep probability.\n",
    " * Name the TensorFlow placeholder \"keep_prob\" using the TensorFlow `name` parameter in the [TF Placeholder](https://www.tensorflow.org/api_docs/python/tf/placeholder).\n",
    "\n",
    "These names will be used at the end of the project to load your saved model.\n",
    "\n",
    "Note: `None` for shapes in TensorFlow allow for a dynamic size."
   ]
  },
  {
   "cell_type": "code",
   "execution_count": 7,
   "metadata": {
    "collapsed": false
   },
   "outputs": [
    {
     "name": "stdout",
     "output_type": "stream",
     "text": [
      "Image Input Tests Passed.\n",
      "Label Input Tests Passed.\n",
      "Keep Prob Tests Passed.\n"
     ]
    }
   ],
   "source": [
    "import tensorflow as tf\n",
    "\n",
    "def neural_net_image_input(image_shape):\n",
    "    \"\"\"\n",
    "    Return a Tensor for a batch of image input\n",
    "    : image_shape: Shape of the images\n",
    "    : return: Tensor for image input.\n",
    "    \"\"\"\n",
    "    # Implement Function         \n",
    "    return tf.placeholder(tf.float32, shape = [None, *image_shape], name = 'x')\n",
    "\n",
    "def neural_net_label_input(n_classes):\n",
    "    \"\"\"\n",
    "    Return a Tensor for a batch of label input\n",
    "    : n_classes: Number of classes\n",
    "    : return: Tensor for label input.\n",
    "    \"\"\"\n",
    "    # Implement Function\n",
    "    return tf.placeholder(tf.float32, shape = [None, n_classes], name = 'y')\n",
    "\n",
    "\n",
    "def neural_net_keep_prob_input():\n",
    "    \"\"\"\n",
    "    Return a Tensor for keep probability\n",
    "    : return: Tensor for keep probability.\n",
    "    \"\"\"\n",
    "    # Implement Function\n",
    "    return tf.placeholder(tf.float32, name = 'keep_prob')\n",
    "\n",
    "\n",
    "\"\"\"\n",
    "DON'T MODIFY ANYTHING IN THIS CELL THAT IS BELOW THIS LINE\n",
    "\"\"\"\n",
    "tf.reset_default_graph()\n",
    "tests.test_nn_image_inputs(neural_net_image_input)\n",
    "tests.test_nn_label_inputs(neural_net_label_input)\n",
    "tests.test_nn_keep_prob_inputs(neural_net_keep_prob_input)"
   ]
  },
  {
   "cell_type": "markdown",
   "metadata": {},
   "source": [
    "### Convolution and Max Pooling Layer\n",
    "Convolution layers have a lot of success with images. For this code cell, you should implement the function `conv2d_maxpool` to apply convolution then max pooling:\n",
    "* Create the weight and bias using `conv_ksize`, `conv_num_outputs` and the shape of `x_tensor`.\n",
    "* Apply a convolution to `x_tensor` using weight and `conv_strides`.\n",
    " * We recommend you use same padding, but you're welcome to use any padding.\n",
    "* Add bias\n",
    "* Add a nonlinear activation to the convolution.\n",
    "* Apply Max Pooling using `pool_ksize` and `pool_strides`.\n",
    " * We recommend you use same padding, but you're welcome to use any padding.\n",
    "\n",
    "**Note:** You **can't** use [TensorFlow Layers](https://www.tensorflow.org/api_docs/python/tf/layers) or [TensorFlow Layers (contrib)](https://www.tensorflow.org/api_guides/python/contrib.layers) for **this** layer, but you can still use TensorFlow's [Neural Network](https://www.tensorflow.org/api_docs/python/tf/nn) package. You may still use the shortcut option for all the **other** layers."
   ]
  },
  {
   "cell_type": "code",
   "execution_count": 8,
   "metadata": {
    "collapsed": false
   },
   "outputs": [
    {
     "name": "stdout",
     "output_type": "stream",
     "text": [
      "Tests Passed\n"
     ]
    }
   ],
   "source": [
    "def conv2d_maxpool(x_tensor, conv_num_outputs, conv_ksize, conv_strides, pool_ksize, pool_strides):\n",
    "    \"\"\"\n",
    "    Apply convolution then max pooling to x_tensor\n",
    "    :param x_tensor: TensorFlow Tensor\n",
    "    :param conv_num_outputs: Number of outputs for the convolutional layer\n",
    "    :param conv_ksize: kernal size 2-D Tuple for the convolutional layer\n",
    "    :param conv_strides: Stride 2-D Tuple for convolution\n",
    "    :param pool_ksize: kernal size 2-D Tuple for pool\n",
    "    :param pool_strides: Stride 2-D Tuple for pool\n",
    "    : return: A tensor that represents convolution and max pooling of x_tensor\n",
    "    \"\"\"\n",
    "    # Implement Function  \n",
    "    channels = int(x_tensor.get_shape()[3])\n",
    "    weights = tf.Variable(\n",
    "        tf.truncated_normal([conv_ksize[0], conv_ksize[1], channels, conv_num_outputs], stddev=0.1, dtype=tf.float32))\n",
    "    \n",
    "    conv = tf.nn.conv2d(x_tensor, weights, strides=[1, conv_strides[0], conv_strides[1], 1], padding='SAME')\n",
    "    bias =  tf.Variable(tf.zeros([conv_num_outputs], dtype=tf.float32))\n",
    "    relu = tf.nn.relu(tf.nn.bias_add(conv, bias))\n",
    "    max_pool = tf.nn.max_pool(relu, ksize=[1, pool_ksize[0], pool_ksize[1], 1], \n",
    "                               strides=[1, pool_strides[0], pool_strides[1], 1], padding='SAME')\n",
    "    \n",
    "    return max_pool \n",
    "\n",
    "\n",
    "\"\"\"\n",
    "DON'T MODIFY ANYTHING IN THIS CELL THAT IS BELOW THIS LINE\n",
    "\"\"\"\n",
    "tests.test_con_pool(conv2d_maxpool)"
   ]
  },
  {
   "cell_type": "markdown",
   "metadata": {},
   "source": [
    "### Flatten Layer\n",
    "Implement the `flatten` function to change the dimension of `x_tensor` from a 4-D tensor to a 2-D tensor.  The output should be the shape (*Batch Size*, *Flattened Image Size*). Shortcut option: you can use classes from the [TensorFlow Layers](https://www.tensorflow.org/api_docs/python/tf/layers) or [TensorFlow Layers (contrib)](https://www.tensorflow.org/api_guides/python/contrib.layers) packages for this layer. For more of a challenge, only use other TensorFlow packages."
   ]
  },
  {
   "cell_type": "code",
   "execution_count": 9,
   "metadata": {
    "collapsed": false
   },
   "outputs": [
    {
     "name": "stdout",
     "output_type": "stream",
     "text": [
      "Tests Passed\n"
     ]
    }
   ],
   "source": [
    "def flatten(x_tensor):\n",
    "    \"\"\"\n",
    "    Flatten x_tensor to (Batch Size, Flattened Image Size)\n",
    "    : x_tensor: A tensor of size (Batch Size, ...), where ... are the image dimensions.\n",
    "    : return: A tensor of size (Batch Size, Flattened Image Size).\n",
    "    \"\"\"\n",
    "    # Implement Function\n",
    "    tensor_shape = x_tensor.get_shape().as_list()\n",
    "    final_shape = tensor_shape[1] * tensor_shape[2] * tensor_shape[3]\n",
    "    flat_output = tf.reshape(x_tensor, [-1, final_shape])\n",
    "    #flat_output = tf.contrib.layers.flatten(inputs=x_tensor)\n",
    "    return flat_output\n",
    "\n",
    "\n",
    "\"\"\"\n",
    "DON'T MODIFY ANYTHING IN THIS CELL THAT IS BELOW THIS LINE\n",
    "\"\"\"\n",
    "tests.test_flatten(flatten)"
   ]
  },
  {
   "cell_type": "markdown",
   "metadata": {},
   "source": [
    "### Fully-Connected Layer\n",
    "Implement the `fully_conn` function to apply a fully connected layer to `x_tensor` with the shape (*Batch Size*, *num_outputs*). Shortcut option: you can use classes from the [TensorFlow Layers](https://www.tensorflow.org/api_docs/python/tf/layers) or [TensorFlow Layers (contrib)](https://www.tensorflow.org/api_guides/python/contrib.layers) packages for this layer. For more of a challenge, only use other TensorFlow packages."
   ]
  },
  {
   "cell_type": "code",
   "execution_count": 10,
   "metadata": {
    "collapsed": false
   },
   "outputs": [
    {
     "name": "stdout",
     "output_type": "stream",
     "text": [
      "Tests Passed\n"
     ]
    }
   ],
   "source": [
    "def fully_conn(x_tensor, num_outputs):\n",
    "    \"\"\"\n",
    "    Apply a fully connected layer to x_tensor using weight and bias\n",
    "    : x_tensor: A 2-D tensor where the first dimension is batch size.\n",
    "    : num_outputs: The number of output that the new tensor should be.\n",
    "    : return: A 2-D tensor where the second dimension is num_outputs.\n",
    "    \"\"\"\n",
    "    # Implement Function\n",
    "    weights_size = x_tensor.get_shape().as_list()[1]\n",
    "    weights = tf.Variable(tf.truncated_normal([weights_size, num_outputs], stddev=0.1, dtype=tf.float32))\n",
    "    bias =  tf.Variable(tf.zeros([num_outputs],dtype=tf.float32))\n",
    "    fully_connected = tf.nn.relu(tf.add(tf.matmul(x_tensor, weights), bias))\n",
    "    #fully_connected = tf.contrib.layers.fully_connected(inputs=x_tensor, num_outputs=num_outputs, activation_fn=tf.nn.relu)    \n",
    "    return fully_connected\n",
    "\n",
    "\n",
    "\"\"\"\n",
    "DON'T MODIFY ANYTHING IN THIS CELL THAT IS BELOW THIS LINE\n",
    "\"\"\"\n",
    "tests.test_fully_conn(fully_conn)"
   ]
  },
  {
   "cell_type": "markdown",
   "metadata": {},
   "source": [
    "### Output Layer\n",
    "Implement the `output` function to apply a fully connected layer to `x_tensor` with the shape (*Batch Size*, *num_outputs*). Shortcut option: you can use classes from the [TensorFlow Layers](https://www.tensorflow.org/api_docs/python/tf/layers) or [TensorFlow Layers (contrib)](https://www.tensorflow.org/api_guides/python/contrib.layers) packages for this layer. For more of a challenge, only use other TensorFlow packages.\n",
    "\n",
    "**Note:** Activation, softmax, or cross entropy should **not** be applied to this."
   ]
  },
  {
   "cell_type": "code",
   "execution_count": 11,
   "metadata": {
    "collapsed": false
   },
   "outputs": [
    {
     "name": "stdout",
     "output_type": "stream",
     "text": [
      "Tests Passed\n"
     ]
    }
   ],
   "source": [
    "def output(x_tensor, num_outputs):\n",
    "    \"\"\"\n",
    "    Apply a output layer to x_tensor using weight and bias\n",
    "    : x_tensor: A 2-D tensor where the first dimension is batch size.\n",
    "    : num_outputs: The number of output that the new tensor should be.\n",
    "    : return: A 2-D tensor where the second dimension is num_outputs.\n",
    "    \"\"\"\n",
    "    weights_size = x_tensor.get_shape().as_list()[1]\n",
    "    weights = tf.Variable(tf.truncated_normal([weights_size, num_outputs], stddev=0.1, dtype=tf.float32))\n",
    "    bias =  tf.Variable(tf.zeros([num_outputs],dtype=tf.float32))\n",
    "    fully_connected = tf.add(tf.matmul(x_tensor, weights), bias)    \n",
    "    #fully_connected = tf.layers.dense(inputs=x_tensor, units=num_outputs)\n",
    "    return fully_connected\n",
    "\n",
    "\n",
    "\"\"\"\n",
    "DON'T MODIFY ANYTHING IN THIS CELL THAT IS BELOW THIS LINE\n",
    "\"\"\"\n",
    "tests.test_output(output)"
   ]
  },
  {
   "cell_type": "markdown",
   "metadata": {},
   "source": [
    "### Create Convolutional Model\n",
    "Implement the function `conv_net` to create a convolutional neural network model. The function takes in a batch of images, `x`, and outputs logits.  Use the layers you created above to create this model:\n",
    "\n",
    "* Apply 1, 2, or 3 Convolution and Max Pool layers\n",
    "* Apply a Flatten Layer\n",
    "* Apply 1, 2, or 3 Fully Connected Layers\n",
    "* Apply an Output Layer\n",
    "* Return the output\n",
    "* Apply [TensorFlow's Dropout](https://www.tensorflow.org/api_docs/python/tf/nn/dropout) to one or more layers in the model using `keep_prob`. "
   ]
  },
  {
   "cell_type": "code",
   "execution_count": 23,
   "metadata": {
    "collapsed": false
   },
   "outputs": [
    {
     "name": "stdout",
     "output_type": "stream",
     "text": [
      "Neural Network Built!\n"
     ]
    }
   ],
   "source": [
    "def conv_net(x, keep_prob):\n",
    "    \"\"\"\n",
    "    Create a convolutional neural network model\n",
    "    : x: Placeholder tensor that holds image data.\n",
    "    : keep_prob: Placeholder tensor that hold dropout keep probability.\n",
    "    : return: Tensor that represents logits\n",
    "    \"\"\"\n",
    "    # Apply 1, 2, or 3 Convolution and Max Pool layers\n",
    "    #    Play around with different number of outputs, kernel size and stride\n",
    "    # Function Definition from Above:\n",
    "    #    conv2d_maxpool(x_tensor, conv_num_outputs, conv_ksize, conv_strides, pool_ksize, pool_strides)\n",
    "    \n",
    "    x_tensor = x\n",
    "    conv_num_output = 16    \n",
    "    fully_num_output = 256\n",
    "    conv_ksize = (3, 3)\n",
    "    conv_strides = (1, 1)\n",
    "    pool_ksize = (3, 3)\n",
    "    pool_strides = (2, 2)\n",
    "    num_outputs = 10\n",
    "    \n",
    "    conv_layer1 = conv2d_maxpool(x_tensor, conv_num_output, conv_ksize, conv_strides, pool_ksize, pool_strides)\n",
    "    conv_layer2 = conv2d_maxpool(conv_layer1, conv_num_output*4, conv_ksize, conv_strides, pool_ksize, pool_strides)\n",
    "    \n",
    "    # Apply a Flatten Layer\n",
    "    # Function Definition from Above:\n",
    "    #   flatten(x_tensor)\n",
    "    flattened = flatten(conv_layer2)\n",
    "\n",
    "    # Apply 1, 2, or 3 Fully Connected Layers\n",
    "    #    Play around with different number of outputs\n",
    "    # Function Definition from Above:\n",
    "    #   fully_conn(x_tensor, num_outputs)\n",
    "    fully_connected_layer = fully_conn(flattened, fully_num_output)\n",
    "    fully_connected_layer = tf.nn.dropout(fully_connected_layer, keep_prob=keep_prob)\n",
    "    \n",
    "    fully_connected_layer = fully_conn(fully_connected_layer/2, fully_num_output)\n",
    "    fully_connected_layer = tf.nn.dropout(fully_connected_layer/2, keep_prob=keep_prob)\n",
    "    \n",
    "    fully_connected_layer = fully_conn(fully_connected_layer/4, fully_num_output)\n",
    "    \n",
    "    # Apply an Output Layer\n",
    "    #    Set this to the number of classes\n",
    "    # Function Definition from Above:\n",
    "    #   output(x_tensor, num_outputs)\n",
    "    output_layer = output(fully_connected_layer, num_outputs)\n",
    "    \n",
    "    # return output\n",
    "    return output_layer\n",
    "\n",
    "\n",
    "\"\"\"\n",
    "DON'T MODIFY ANYTHING IN THIS CELL THAT IS BELOW THIS LINE\n",
    "\"\"\"\n",
    "\n",
    "##############################\n",
    "## Build the Neural Network ##\n",
    "##############################\n",
    "\n",
    "# Remove previous weights, bias, inputs, etc..\n",
    "tf.reset_default_graph()\n",
    "\n",
    "# Inputs\n",
    "x = neural_net_image_input((32, 32, 3))\n",
    "y = neural_net_label_input(10)\n",
    "keep_prob = neural_net_keep_prob_input()\n",
    "\n",
    "# Model\n",
    "logits = conv_net(x, keep_prob)\n",
    "\n",
    "# Name logits Tensor, so that is can be loaded from disk after training\n",
    "logits = tf.identity(logits, name='logits')\n",
    "\n",
    "# Loss and Optimizer\n",
    "cost = tf.reduce_mean(tf.nn.softmax_cross_entropy_with_logits(logits=logits, labels=y))\n",
    "optimizer = tf.train.AdamOptimizer().minimize(cost)\n",
    "\n",
    "# Accuracy\n",
    "correct_pred = tf.equal(tf.argmax(logits, 1), tf.argmax(y, 1))\n",
    "accuracy = tf.reduce_mean(tf.cast(correct_pred, tf.float32), name='accuracy')\n",
    "\n",
    "tests.test_conv_net(conv_net)"
   ]
  },
  {
   "cell_type": "markdown",
   "metadata": {},
   "source": [
    "## Train the Neural Network\n",
    "### Single Optimization\n",
    "Implement the function `train_neural_network` to do a single optimization.  The optimization should use `optimizer` to optimize in `session` with a `feed_dict` of the following:\n",
    "* `x` for image input\n",
    "* `y` for labels\n",
    "* `keep_prob` for keep probability for dropout\n",
    "\n",
    "This function will be called for each batch, so `tf.global_variables_initializer()` has already been called.\n",
    "\n",
    "Note: Nothing needs to be returned. This function is only optimizing the neural network."
   ]
  },
  {
   "cell_type": "code",
   "execution_count": 13,
   "metadata": {
    "collapsed": false
   },
   "outputs": [
    {
     "name": "stdout",
     "output_type": "stream",
     "text": [
      "Tests Passed\n"
     ]
    }
   ],
   "source": [
    "def train_neural_network(session, optimizer, keep_probability, feature_batch, label_batch):\n",
    "    \"\"\"\n",
    "    Optimize the session on a batch of images and labels\n",
    "    : session: Current TensorFlow session\n",
    "    : optimizer: TensorFlow optimizer function\n",
    "    : keep_probability: keep probability\n",
    "    : feature_batch: Batch of Numpy image data\n",
    "    : label_batch: Batch of Numpy label data\n",
    "    \"\"\"\n",
    "    # Implement Function\n",
    "    session.run(optimizer, feed_dict={x: feature_batch, y: label_batch, keep_prob: keep_probability})    \n",
    "\n",
    "\n",
    "\"\"\"\n",
    "DON'T MODIFY ANYTHING IN THIS CELL THAT IS BELOW THIS LINE\n",
    "\"\"\"\n",
    "tests.test_train_nn(train_neural_network)"
   ]
  },
  {
   "cell_type": "markdown",
   "metadata": {},
   "source": [
    "### Show Stats\n",
    "Implement the function `print_stats` to print loss and validation accuracy.  Use the global variables `valid_features` and `valid_labels` to calculate validation accuracy.  Use a keep probability of `1.0` to calculate the loss and validation accuracy."
   ]
  },
  {
   "cell_type": "code",
   "execution_count": 14,
   "metadata": {
    "collapsed": false
   },
   "outputs": [],
   "source": [
    "def print_stats(session, feature_batch, label_batch, cost, accuracy):\n",
    "    \"\"\"\n",
    "    Print information about loss and validation accuracy\n",
    "    : session: Current TensorFlow session\n",
    "    : feature_batch: Batch of Numpy image data\n",
    "    : label_batch: Batch of Numpy label data\n",
    "    : cost: TensorFlow cost function\n",
    "    : accuracy: TensorFlow accuracy function\n",
    "    \"\"\"\n",
    "    # Calculate batch loss and accuracy\n",
    "    keep_probability = 1.0\n",
    "    \n",
    "    validation_accuracy = session.run(accuracy, feed_dict={x: valid_features, y: valid_labels, keep_prob: keep_probability})\n",
    "        \n",
    "    loss = session.run(cost, feed_dict={x: feature_batch, y: label_batch, keep_prob: keep_probability})\n",
    "    \n",
    "    print('Loss = {} - Validation Accuracy = {:3.2f}%'.format(loss, (validation_accuracy*100)))"
   ]
  },
  {
   "cell_type": "markdown",
   "metadata": {},
   "source": [
    "### Hyperparameters\n",
    "Tune the following parameters:\n",
    "* Set `epochs` to the number of iterations until the network stops learning or start overfitting\n",
    "* Set `batch_size` to the highest number that your machine has memory for.  Most people set them to common sizes of memory:\n",
    " * 64\n",
    " * 128\n",
    " * 256\n",
    " * ...\n",
    "* Set `keep_probability` to the probability of keeping a node using dropout"
   ]
  },
  {
   "cell_type": "code",
   "execution_count": 16,
   "metadata": {
    "collapsed": true
   },
   "outputs": [],
   "source": [
    "# TODO: Tune Parameters\n",
    "epochs = 20\n",
    "batch_size = 256\n",
    "keep_probability = 0.5"
   ]
  },
  {
   "cell_type": "markdown",
   "metadata": {},
   "source": [
    "### Train on a Single CIFAR-10 Batch\n",
    "Instead of training the neural network on all the CIFAR-10 batches of data, let's use a single batch. This should save time while you iterate on the model to get a better accuracy.  Once the final validation accuracy is 50% or greater, run the model on all the data in the next section."
   ]
  },
  {
   "cell_type": "code",
   "execution_count": 25,
   "metadata": {
    "collapsed": false
   },
   "outputs": [
    {
     "name": "stdout",
     "output_type": "stream",
     "text": [
      "Checking the Training on a Single Batch...\n",
      "Epoch  1, CIFAR-10 Batch 1:  Loss = 2.2409281730651855 - Validation Accuracy = 17.22%\n",
      "Epoch  2, CIFAR-10 Batch 1:  Loss = 2.066061496734619 - Validation Accuracy = 30.82%\n",
      "Epoch  3, CIFAR-10 Batch 1:  Loss = 1.8444284200668335 - Validation Accuracy = 36.96%\n",
      "Epoch  4, CIFAR-10 Batch 1:  Loss = 1.7183090448379517 - Validation Accuracy = 40.62%\n",
      "Epoch  5, CIFAR-10 Batch 1:  Loss = 1.6909955739974976 - Validation Accuracy = 39.28%\n",
      "Epoch  6, CIFAR-10 Batch 1:  Loss = 1.4540722370147705 - Validation Accuracy = 45.34%\n",
      "Epoch  7, CIFAR-10 Batch 1:  Loss = 1.3830673694610596 - Validation Accuracy = 47.08%\n",
      "Epoch  8, CIFAR-10 Batch 1:  Loss = 1.2442961931228638 - Validation Accuracy = 48.26%\n",
      "Epoch  9, CIFAR-10 Batch 1:  Loss = 1.155432939529419 - Validation Accuracy = 48.98%\n",
      "Epoch 10, CIFAR-10 Batch 1:  Loss = 1.1008816957473755 - Validation Accuracy = 50.46%\n",
      "Epoch 11, CIFAR-10 Batch 1:  Loss = 1.009739875793457 - Validation Accuracy = 51.12%\n",
      "Epoch 12, CIFAR-10 Batch 1:  Loss = 0.9342872500419617 - Validation Accuracy = 52.46%\n",
      "Epoch 13, CIFAR-10 Batch 1:  Loss = 0.8750958442687988 - Validation Accuracy = 53.36%\n",
      "Epoch 14, CIFAR-10 Batch 1:  Loss = 0.8017654418945312 - Validation Accuracy = 54.02%\n",
      "Epoch 15, CIFAR-10 Batch 1:  Loss = 0.7239233255386353 - Validation Accuracy = 55.04%\n",
      "Epoch 16, CIFAR-10 Batch 1:  Loss = 0.6699713468551636 - Validation Accuracy = 55.06%\n",
      "Epoch 17, CIFAR-10 Batch 1:  Loss = 0.6345352530479431 - Validation Accuracy = 57.36%\n",
      "Epoch 18, CIFAR-10 Batch 1:  Loss = 0.5822045207023621 - Validation Accuracy = 56.22%\n",
      "Epoch 19, CIFAR-10 Batch 1:  Loss = 0.5335897207260132 - Validation Accuracy = 56.88%\n",
      "Epoch 20, CIFAR-10 Batch 1:  Loss = 0.4500921666622162 - Validation Accuracy = 56.98%\n"
     ]
    }
   ],
   "source": [
    "\"\"\"\n",
    "DON'T MODIFY ANYTHING IN THIS CELL\n",
    "\"\"\"\n",
    "print('Checking the Training on a Single Batch...')\n",
    "with tf.Session() as sess:\n",
    "    # Initializing the variables\n",
    "    sess.run(tf.global_variables_initializer())\n",
    "    \n",
    "    # Training cycle\n",
    "    for epoch in range(epochs):\n",
    "        batch_i = 1\n",
    "        for batch_features, batch_labels in helper.load_preprocess_training_batch(batch_i, batch_size):\n",
    "            train_neural_network(sess, optimizer, keep_probability, batch_features, batch_labels)\n",
    "        print('Epoch {:>2}, CIFAR-10 Batch {}:  '.format(epoch + 1, batch_i), end='')\n",
    "        print_stats(sess, batch_features, batch_labels, cost, accuracy)\n",
    "             "
   ]
  },
  {
   "cell_type": "markdown",
   "metadata": {},
   "source": [
    "### Fully Train the Model\n",
    "Now that you got a good accuracy with a single CIFAR-10 batch, try it with all five batches."
   ]
  },
  {
   "cell_type": "code",
   "execution_count": 26,
   "metadata": {
    "collapsed": false
   },
   "outputs": [
    {
     "name": "stdout",
     "output_type": "stream",
     "text": [
      "Training...\n",
      "Epoch  1, CIFAR-10 Batch 1:  Loss = 2.2394909858703613 - Validation Accuracy = 21.66%\n",
      "Epoch  1, CIFAR-10 Batch 2:  Loss = 1.9126332998275757 - Validation Accuracy = 32.34%\n",
      "Epoch  1, CIFAR-10 Batch 3:  Loss = 1.5756512880325317 - Validation Accuracy = 38.28%\n",
      "Epoch  1, CIFAR-10 Batch 4:  Loss = 1.6268470287322998 - Validation Accuracy = 42.76%\n",
      "Epoch  1, CIFAR-10 Batch 5:  Loss = 1.5391124486923218 - Validation Accuracy = 42.50%\n",
      "Epoch  2, CIFAR-10 Batch 1:  Loss = 1.8237860202789307 - Validation Accuracy = 45.30%\n",
      "Epoch  2, CIFAR-10 Batch 2:  Loss = 1.471470832824707 - Validation Accuracy = 46.58%\n",
      "Epoch  2, CIFAR-10 Batch 3:  Loss = 1.1346819400787354 - Validation Accuracy = 48.78%\n",
      "Epoch  2, CIFAR-10 Batch 4:  Loss = 1.3349275588989258 - Validation Accuracy = 49.84%\n",
      "Epoch  2, CIFAR-10 Batch 5:  Loss = 1.2817800045013428 - Validation Accuracy = 51.70%\n",
      "Epoch  3, CIFAR-10 Batch 1:  Loss = 1.4252657890319824 - Validation Accuracy = 53.88%\n",
      "Epoch  3, CIFAR-10 Batch 2:  Loss = 1.2016407251358032 - Validation Accuracy = 52.52%\n",
      "Epoch  3, CIFAR-10 Batch 3:  Loss = 0.9645513296127319 - Validation Accuracy = 54.86%\n",
      "Epoch  3, CIFAR-10 Batch 4:  Loss = 1.1560871601104736 - Validation Accuracy = 55.46%\n",
      "Epoch  3, CIFAR-10 Batch 5:  Loss = 1.13481867313385 - Validation Accuracy = 54.58%\n",
      "Epoch  4, CIFAR-10 Batch 1:  Loss = 1.1770343780517578 - Validation Accuracy = 56.94%\n",
      "Epoch  4, CIFAR-10 Batch 2:  Loss = 1.0116554498672485 - Validation Accuracy = 56.20%\n",
      "Epoch  4, CIFAR-10 Batch 3:  Loss = 0.9093252420425415 - Validation Accuracy = 57.54%\n",
      "Epoch  4, CIFAR-10 Batch 4:  Loss = 1.0061588287353516 - Validation Accuracy = 59.56%\n",
      "Epoch  4, CIFAR-10 Batch 5:  Loss = 0.9624618291854858 - Validation Accuracy = 58.28%\n",
      "Epoch  5, CIFAR-10 Batch 1:  Loss = 0.9987686276435852 - Validation Accuracy = 59.02%\n",
      "Epoch  5, CIFAR-10 Batch 2:  Loss = 0.8816208839416504 - Validation Accuracy = 58.66%\n",
      "Epoch  5, CIFAR-10 Batch 3:  Loss = 0.8261814117431641 - Validation Accuracy = 60.04%\n",
      "Epoch  5, CIFAR-10 Batch 4:  Loss = 0.8945459127426147 - Validation Accuracy = 60.18%\n",
      "Epoch  5, CIFAR-10 Batch 5:  Loss = 0.8169577717781067 - Validation Accuracy = 61.62%\n",
      "Epoch  6, CIFAR-10 Batch 1:  Loss = 0.8709880709648132 - Validation Accuracy = 60.80%\n",
      "Epoch  6, CIFAR-10 Batch 2:  Loss = 0.7057095766067505 - Validation Accuracy = 60.98%\n",
      "Epoch  6, CIFAR-10 Batch 3:  Loss = 0.7452192306518555 - Validation Accuracy = 61.74%\n",
      "Epoch  6, CIFAR-10 Batch 4:  Loss = 0.776456892490387 - Validation Accuracy = 63.36%\n",
      "Epoch  6, CIFAR-10 Batch 5:  Loss = 0.6950710415840149 - Validation Accuracy = 62.84%\n",
      "Epoch  7, CIFAR-10 Batch 1:  Loss = 0.7671210169792175 - Validation Accuracy = 63.36%\n",
      "Epoch  7, CIFAR-10 Batch 2:  Loss = 0.6351067423820496 - Validation Accuracy = 64.22%\n",
      "Epoch  7, CIFAR-10 Batch 3:  Loss = 0.6484127044677734 - Validation Accuracy = 64.36%\n",
      "Epoch  7, CIFAR-10 Batch 4:  Loss = 0.6358227729797363 - Validation Accuracy = 64.46%\n",
      "Epoch  7, CIFAR-10 Batch 5:  Loss = 0.5986292362213135 - Validation Accuracy = 63.72%\n",
      "Epoch  8, CIFAR-10 Batch 1:  Loss = 0.7055987119674683 - Validation Accuracy = 64.42%\n",
      "Epoch  8, CIFAR-10 Batch 2:  Loss = 0.5306703448295593 - Validation Accuracy = 63.84%\n",
      "Epoch  8, CIFAR-10 Batch 3:  Loss = 0.6042816042900085 - Validation Accuracy = 65.40%\n",
      "Epoch  8, CIFAR-10 Batch 4:  Loss = 0.5306122303009033 - Validation Accuracy = 65.72%\n",
      "Epoch  8, CIFAR-10 Batch 5:  Loss = 0.5450161695480347 - Validation Accuracy = 65.74%\n",
      "Epoch  9, CIFAR-10 Batch 1:  Loss = 0.5633198022842407 - Validation Accuracy = 66.34%\n",
      "Epoch  9, CIFAR-10 Batch 2:  Loss = 0.44202518463134766 - Validation Accuracy = 65.44%\n",
      "Epoch  9, CIFAR-10 Batch 3:  Loss = 0.5340521335601807 - Validation Accuracy = 66.32%\n",
      "Epoch  9, CIFAR-10 Batch 4:  Loss = 0.4576071798801422 - Validation Accuracy = 67.04%\n",
      "Epoch  9, CIFAR-10 Batch 5:  Loss = 0.4849511981010437 - Validation Accuracy = 66.74%\n",
      "Epoch 10, CIFAR-10 Batch 1:  Loss = 0.5555099248886108 - Validation Accuracy = 66.36%\n",
      "Epoch 10, CIFAR-10 Batch 2:  Loss = 0.4112235903739929 - Validation Accuracy = 67.60%\n",
      "Epoch 10, CIFAR-10 Batch 3:  Loss = 0.454892635345459 - Validation Accuracy = 67.42%\n",
      "Epoch 10, CIFAR-10 Batch 4:  Loss = 0.4312966465950012 - Validation Accuracy = 68.46%\n",
      "Epoch 10, CIFAR-10 Batch 5:  Loss = 0.419994592666626 - Validation Accuracy = 68.48%\n",
      "Epoch 11, CIFAR-10 Batch 1:  Loss = 0.5322139263153076 - Validation Accuracy = 65.54%\n",
      "Epoch 11, CIFAR-10 Batch 2:  Loss = 0.3729082942008972 - Validation Accuracy = 67.06%\n",
      "Epoch 11, CIFAR-10 Batch 3:  Loss = 0.4120357632637024 - Validation Accuracy = 68.06%\n",
      "Epoch 11, CIFAR-10 Batch 4:  Loss = 0.3510621190071106 - Validation Accuracy = 68.54%\n",
      "Epoch 11, CIFAR-10 Batch 5:  Loss = 0.374143123626709 - Validation Accuracy = 68.08%\n",
      "Epoch 12, CIFAR-10 Batch 1:  Loss = 0.438975989818573 - Validation Accuracy = 67.98%\n",
      "Epoch 12, CIFAR-10 Batch 2:  Loss = 0.3068709373474121 - Validation Accuracy = 68.78%\n",
      "Epoch 12, CIFAR-10 Batch 3:  Loss = 0.4055453836917877 - Validation Accuracy = 68.58%\n",
      "Epoch 12, CIFAR-10 Batch 4:  Loss = 0.3436053693294525 - Validation Accuracy = 68.74%\n",
      "Epoch 12, CIFAR-10 Batch 5:  Loss = 0.2920939326286316 - Validation Accuracy = 69.44%\n",
      "Epoch 13, CIFAR-10 Batch 1:  Loss = 0.34658247232437134 - Validation Accuracy = 69.10%\n",
      "Epoch 13, CIFAR-10 Batch 2:  Loss = 0.2798477113246918 - Validation Accuracy = 69.60%\n",
      "Epoch 13, CIFAR-10 Batch 3:  Loss = 0.31266558170318604 - Validation Accuracy = 69.76%\n",
      "Epoch 13, CIFAR-10 Batch 4:  Loss = 0.29281097650527954 - Validation Accuracy = 70.06%\n",
      "Epoch 13, CIFAR-10 Batch 5:  Loss = 0.2622207701206207 - Validation Accuracy = 69.90%\n",
      "Epoch 14, CIFAR-10 Batch 1:  Loss = 0.362231969833374 - Validation Accuracy = 69.54%\n",
      "Epoch 14, CIFAR-10 Batch 2:  Loss = 0.24457040429115295 - Validation Accuracy = 70.26%\n",
      "Epoch 14, CIFAR-10 Batch 3:  Loss = 0.27738162875175476 - Validation Accuracy = 70.62%\n",
      "Epoch 14, CIFAR-10 Batch 4:  Loss = 0.30821341276168823 - Validation Accuracy = 69.94%\n",
      "Epoch 14, CIFAR-10 Batch 5:  Loss = 0.23403993248939514 - Validation Accuracy = 70.52%\n",
      "Epoch 15, CIFAR-10 Batch 1:  Loss = 0.3296746611595154 - Validation Accuracy = 70.14%\n",
      "Epoch 15, CIFAR-10 Batch 2:  Loss = 0.2323441505432129 - Validation Accuracy = 70.54%\n",
      "Epoch 15, CIFAR-10 Batch 3:  Loss = 0.24638167023658752 - Validation Accuracy = 71.10%\n",
      "Epoch 15, CIFAR-10 Batch 4:  Loss = 0.2693215310573578 - Validation Accuracy = 70.04%\n",
      "Epoch 15, CIFAR-10 Batch 5:  Loss = 0.21138200163841248 - Validation Accuracy = 71.12%\n",
      "Epoch 16, CIFAR-10 Batch 1:  Loss = 0.25964033603668213 - Validation Accuracy = 70.48%\n",
      "Epoch 16, CIFAR-10 Batch 2:  Loss = 0.20569224655628204 - Validation Accuracy = 71.42%\n",
      "Epoch 16, CIFAR-10 Batch 3:  Loss = 0.25324568152427673 - Validation Accuracy = 70.48%\n",
      "Epoch 16, CIFAR-10 Batch 4:  Loss = 0.2550678849220276 - Validation Accuracy = 70.36%\n",
      "Epoch 16, CIFAR-10 Batch 5:  Loss = 0.19688543677330017 - Validation Accuracy = 71.28%\n",
      "Epoch 17, CIFAR-10 Batch 1:  Loss = 0.25478336215019226 - Validation Accuracy = 70.90%\n",
      "Epoch 17, CIFAR-10 Batch 2:  Loss = 0.21558913588523865 - Validation Accuracy = 71.90%\n",
      "Epoch 17, CIFAR-10 Batch 3:  Loss = 0.2024967223405838 - Validation Accuracy = 70.40%\n",
      "Epoch 17, CIFAR-10 Batch 4:  Loss = 0.23632478713989258 - Validation Accuracy = 69.66%\n",
      "Epoch 17, CIFAR-10 Batch 5:  Loss = 0.15936550498008728 - Validation Accuracy = 71.58%\n",
      "Epoch 18, CIFAR-10 Batch 1:  Loss = 0.23583781719207764 - Validation Accuracy = 71.48%\n",
      "Epoch 18, CIFAR-10 Batch 2:  Loss = 0.21612921357154846 - Validation Accuracy = 71.44%\n",
      "Epoch 18, CIFAR-10 Batch 3:  Loss = 0.18657252192497253 - Validation Accuracy = 71.52%\n",
      "Epoch 18, CIFAR-10 Batch 4:  Loss = 0.2042352259159088 - Validation Accuracy = 70.20%\n",
      "Epoch 18, CIFAR-10 Batch 5:  Loss = 0.1453210860490799 - Validation Accuracy = 71.92%\n",
      "Epoch 19, CIFAR-10 Batch 1:  Loss = 0.19763295352458954 - Validation Accuracy = 72.12%\n",
      "Epoch 19, CIFAR-10 Batch 2:  Loss = 0.17013238370418549 - Validation Accuracy = 72.30%\n",
      "Epoch 19, CIFAR-10 Batch 3:  Loss = 0.16185402870178223 - Validation Accuracy = 71.64%\n",
      "Epoch 19, CIFAR-10 Batch 4:  Loss = 0.19071407616138458 - Validation Accuracy = 71.10%\n",
      "Epoch 19, CIFAR-10 Batch 5:  Loss = 0.14139176905155182 - Validation Accuracy = 72.06%\n",
      "Epoch 20, CIFAR-10 Batch 1:  Loss = 0.19293831288814545 - Validation Accuracy = 71.94%\n",
      "Epoch 20, CIFAR-10 Batch 2:  Loss = 0.14688928425312042 - Validation Accuracy = 71.58%\n",
      "Epoch 20, CIFAR-10 Batch 3:  Loss = 0.1484662890434265 - Validation Accuracy = 71.90%\n",
      "Epoch 20, CIFAR-10 Batch 4:  Loss = 0.1821412742137909 - Validation Accuracy = 71.56%\n",
      "Epoch 20, CIFAR-10 Batch 5:  Loss = 0.14292223751544952 - Validation Accuracy = 71.18%\n"
     ]
    }
   ],
   "source": [
    "\"\"\"\n",
    "DON'T MODIFY ANYTHING IN THIS CELL\n",
    "\"\"\"\n",
    "save_model_path = './image_classification'\n",
    "\n",
    "print('Training...')\n",
    "with tf.Session() as sess:\n",
    "    # Initializing the variables\n",
    "    sess.run(tf.global_variables_initializer())\n",
    "    \n",
    "    # Training cycle\n",
    "    for epoch in range(epochs):\n",
    "        # Loop over all batches\n",
    "        n_batches = 5\n",
    "        for batch_i in range(1, n_batches + 1):\n",
    "            for batch_features, batch_labels in helper.load_preprocess_training_batch(batch_i, batch_size):\n",
    "                train_neural_network(sess, optimizer, keep_probability, batch_features, batch_labels)\n",
    "            print('Epoch {:>2}, CIFAR-10 Batch {}:  '.format(epoch + 1, batch_i), end='')\n",
    "            print_stats(sess, batch_features, batch_labels, cost, accuracy)\n",
    "            \n",
    "    # Save Model\n",
    "    saver = tf.train.Saver()\n",
    "    save_path = saver.save(sess, save_model_path)"
   ]
  },
  {
   "cell_type": "markdown",
   "metadata": {},
   "source": [
    "# Checkpoint\n",
    "The model has been saved to disk.\n",
    "## Test Model\n",
    "Test your model against the test dataset.  This will be your final accuracy. You should have an accuracy greater than 50%. If you don't, keep tweaking the model architecture and parameters."
   ]
  },
  {
   "cell_type": "code",
   "execution_count": 31,
   "metadata": {
    "collapsed": false
   },
   "outputs": [
    {
     "name": "stdout",
     "output_type": "stream",
     "text": [
      "Testing Accuracy: 0.70234375\n",
      "\n"
     ]
    },
    {
     "data": {
      "image/png": "[encoded data removed]",
      "text/plain": [
       "<matplotlib.figure.Figure at 0x2109948b048>"
      ]
     },
     "metadata": {
      "image/png": {
       "height": 319,
       "width": 355
      }
     },
     "output_type": "display_data"
    }
   ],
   "source": [
    "\"\"\"\n",
    "DON'T MODIFY ANYTHING IN THIS CELL\n",
    "\"\"\"\n",
    "%matplotlib inline\n",
    "%config InlineBackend.figure_format = 'retina'\n",
    "\n",
    "import tensorflow as tf\n",
    "import pickle\n",
    "import helper\n",
    "import random\n",
    "\n",
    "# Set batch size if not already set\n",
    "try:\n",
    "    if batch_size:\n",
    "        pass\n",
    "except NameError:\n",
    "    batch_size = 64\n",
    "\n",
    "save_model_path = './image_classification'\n",
    "n_samples = 4\n",
    "top_n_predictions = 3\n",
    "\n",
    "def test_model():\n",
    "    \"\"\"\n",
    "    Test the saved model against the test dataset\n",
    "    \"\"\"\n",
    "\n",
    "    test_features, test_labels = pickle.load(open('preprocess_training.p', mode='rb'))\n",
    "    loaded_graph = tf.Graph()\n",
    "\n",
    "    with tf.Session(graph=loaded_graph) as sess:\n",
    "        # Load model\n",
    "        loader = tf.train.import_meta_graph(save_model_path + '.meta')\n",
    "        loader.restore(sess, save_model_path)\n",
    "\n",
    "        # Get Tensors from loaded model\n",
    "        loaded_x = loaded_graph.get_tensor_by_name('x:0')\n",
    "        loaded_y = loaded_graph.get_tensor_by_name('y:0')\n",
    "        loaded_keep_prob = loaded_graph.get_tensor_by_name('keep_prob:0')\n",
    "        loaded_logits = loaded_graph.get_tensor_by_name('logits:0')\n",
    "        loaded_acc = loaded_graph.get_tensor_by_name('accuracy:0')\n",
    "        \n",
    "        # Get accuracy in batches for memory limitations\n",
    "        test_batch_acc_total = 0\n",
    "        test_batch_count = 0\n",
    "        \n",
    "        for train_feature_batch, train_label_batch in helper.batch_features_labels(test_features, test_labels, batch_size):\n",
    "            test_batch_acc_total += sess.run(\n",
    "                loaded_acc,\n",
    "                feed_dict={loaded_x: train_feature_batch, loaded_y: train_label_batch, loaded_keep_prob: 1.0})\n",
    "            test_batch_count += 1\n",
    "\n",
    "        print('Testing Accuracy: {}\\n'.format(test_batch_acc_total/test_batch_count))\n",
    "\n",
    "        # Print Random Samples\n",
    "        random_test_features, random_test_labels = tuple(zip(*random.sample(list(zip(test_features, test_labels)), n_samples)))\n",
    "        random_test_predictions = sess.run(\n",
    "            tf.nn.top_k(tf.nn.softmax(loaded_logits), top_n_predictions),\n",
    "            feed_dict={loaded_x: random_test_features, loaded_y: random_test_labels, loaded_keep_prob: 1.0})\n",
    "        helper.display_image_predictions(random_test_features, random_test_labels, random_test_predictions)\n",
    "\n",
    "\n",
    "test_model()"
   ]
  },
  {
   "cell_type": "markdown",
   "metadata": {},
   "source": [
    "## Why 50-80% Accuracy?\n",
    "You might be wondering why you can't get an accuracy any higher. First things first, 50% isn't bad for a simple CNN.  Pure guessing would get you 10% accuracy. However, you might notice people are getting scores [well above 80%](http://rodrigob.github.io/are_we_there_yet/build/classification_datasets_results.html#43494641522d3130).  That's because we haven't taught you all there is to know about neural networks. We still need to cover a few more techniques.\n",
    "## Submitting This Project\n",
    "When submitting this project, make sure to run all the cells before saving the notebook.  Save the notebook file as \"dlnd_image_classification.ipynb\" and save it as a HTML file under \"File\" -> \"Download as\".  Include the \"helper.py\" and \"problem_unittests.py\" files in your submission."
   ]
  }
 ],
 "metadata": {
  "kernelspec": {
   "display_name": "Python 3",
   "language": "python",
   "name": "python3"
  },
  "language_info": {
   "codemirror_mode": {
    "name": "ipython",
    "version": 3
   },
   "file_extension": ".py",
   "mimetype": "text/x-python",
   "name": "python",
   "nbconvert_exporter": "python",
   "pygments_lexer": "ipython3",
   "version": "3.5.2"
  }
 },
 "nbformat": 4,
 "nbformat_minor": 0
}
